{
 "cells": [
  {
   "attachments": {},
   "cell_type": "markdown",
   "metadata": {},
   "source": [
    "# Quickstart"
   ]
  },
  {
   "attachments": {},
   "cell_type": "markdown",
   "metadata": {},
   "source": [
    "This quickstart guide will show you how to use the `hubsclient` library to interact\n",
    "with a Hubs room. This guide can be run as a Jupyter notebook. You can download the \n",
    "notebook from the GitHub repository \n",
    "[here](https://github.com/simvia/hubsclient/blob/master/docs/quickstart.ipynb) or\n",
    "you can run it in Google Colab by clicking the badge below:\n",
    "\n",
    "[![Open In Colab](https://colab.research.google.com/assets/colab-badge.svg)](https://colab.research.google.com/github/simvia/hubsclient/blob/master/docs/quickstart.ipynb)"
   ]
  },
  {
   "attachments": {},
   "cell_type": "markdown",
   "metadata": {},
   "source": [
    "## Setup"
   ]
  },
  {
   "attachments": {},
   "cell_type": "markdown",
   "metadata": {},
   "source": [
    "If you haven't installed the library yet, you can do so directly from GitHub with pip:"
   ]
  },
  {
   "cell_type": "code",
   "execution_count": null,
   "metadata": {},
   "outputs": [],
   "source": [
    "%pip install git+https://github.com/simvia/hubsclient.git"
   ]
  },
  {
   "attachments": {},
   "cell_type": "markdown",
   "metadata": {},
   "source": [
    "## Joining a room"
   ]
  },
  {
   "attachments": {},
   "cell_type": "markdown",
   "metadata": {},
   "source": [
    "To join a room, you need to know the room's url. If you haven't already, create a new\n",
    "room on the public Hubs instance at\n",
    "[https://hubs.mozilla.com/demo](https://hubs.mozilla.com/demo). Once you have created\n",
    "a room, your URL will look something like this:\n",
    "`https://hubs.mozilla.com/waycoA2/obedient-best-get-together`. The room id is the\n",
    "part immediately after the domain name, in this case `waycoA2`."
   ]
  },
  {
   "attachments": {},
   "cell_type": "markdown",
   "metadata": {},
   "source": [
    "\n",
    "In addition to the room id, you will need information about your avatar, such as the\n",
    "name you want to use and the id of the avatar model. We'll explain how to get this\n",
    "information in a later section, but for now, let's use the\n",
    "[base bot](https://hubs.mozilla.com/api/v1/avatars/basebot) avatar. This avatar has\n",
    "the id `basebot`. We can set our display name to something like `Python User`."
   ]
  },
  {
   "attachments": {},
   "cell_type": "markdown",
   "metadata": {},
   "source": [
    "\n",
    "Now that we have our room id and our avatar info, we can instantiate a client and\n",
    "join the room:"
   ]
  },
  {
   "cell_type": "code",
   "execution_count": null,
   "metadata": {},
   "outputs": [],
   "source": [
    "from hubsclient import HubsClient\n",
    "\n",
    "client = HubsClient(\n",
    "    host=\"hubs.mozilla.com\",\n",
    "    room_id=\"waycoA2\",\n",
    "    avatar_id=\"basebot\",\n",
    "    display_name=\"Python User\",\n",
    ")"
   ]
  },
  {
   "attachments": {},
   "cell_type": "markdown",
   "metadata": {},
   "source": [
    "The client will automatically join the room and start listening for events."
   ]
  },
  {
   "attachments": {},
   "cell_type": "markdown",
   "metadata": {},
   "source": [
    "## Moving around"
   ]
  },
  {
   "attachments": {},
   "cell_type": "markdown",
   "metadata": {},
   "source": [
    "Now that we have joined the room, we can move around by setting the `position` and\n",
    "`rotation` attributes of the client.\n",
    "\n",
    "Let's advance the client's position on the x-axis by 1 meter:"
   ]
  },
  {
   "cell_type": "code",
   "execution_count": null,
   "metadata": {},
   "outputs": [],
   "source": [
    "client.avatar.position.x += 1"
   ]
  },
  {
   "attachments": {},
   "cell_type": "markdown",
   "metadata": {},
   "source": [
    "We can also rotate the client by 90 degrees:"
   ]
  },
  {
   "cell_type": "code",
   "execution_count": null,
   "metadata": {},
   "outputs": [],
   "source": [
    "client.avatar.rotation.y = 90"
   ]
  },
  {
   "attachments": {},
   "cell_type": "markdown",
   "metadata": {},
   "source": [
    "In order to see the changes, we need to send the new position and rotation to the\n",
    "server by calling the `sync` method:"
   ]
  },
  {
   "cell_type": "code",
   "execution_count": null,
   "metadata": {},
   "outputs": [],
   "source": [
    "client.sync()"
   ]
  },
  {
   "attachments": {},
   "cell_type": "markdown",
   "metadata": {},
   "source": [
    "## More avatar features"
   ]
  },
  {
   "attachments": {},
   "cell_type": "markdown",
   "metadata": {},
   "source": [
    "The client has a number of other attributes that can be used to control the avatar.\n",
    "For example, we adjust the position and rotation of the avatar's head:"
   ]
  },
  {
   "cell_type": "code",
   "execution_count": null,
   "metadata": {},
   "outputs": [],
   "source": [
    "client.avatar.head_transform.position.y -= 0.1\n",
    "client.avatar.head_transform.rotation.x = 20\n",
    "client.sync()"
   ]
  },
  {
   "attachments": {},
   "cell_type": "markdown",
   "metadata": {},
   "source": [
    "We can also manipulate the avatar's hands:\n",
    "\n",
    "Lets make the left hand visible and move it to the left of the avatar's head:"
   ]
  },
  {
   "cell_type": "code",
   "execution_count": null,
   "metadata": {},
   "outputs": [],
   "source": [
    "client.avatar.lefthand.visible = True\n",
    "client.avatar.lefthand.position.x = -0.5\n",
    "client.sync()"
   ]
  },
  {
   "attachments": {},
   "cell_type": "markdown",
   "metadata": {},
   "source": [
    "Now, we can make it show a thumbs up:"
   ]
  },
  {
   "cell_type": "code",
   "execution_count": null,
   "metadata": {},
   "outputs": [],
   "source": [
    "from hubsclient.avatar import HandPose\n",
    "\n",
    "client.avatar.lefthand.pose = HandPose.thumbsUp\n",
    "client.sync()"
   ]
  },
  {
   "attachments": {},
   "cell_type": "markdown",
   "metadata": {},
   "source": [
    "## Sending messages"
   ]
  },
  {
   "attachments": {},
   "cell_type": "markdown",
   "metadata": {},
   "source": [
    "We can send messages to other users in the room by calling the `send_chat` method:"
   ]
  },
  {
   "cell_type": "code",
   "execution_count": null,
   "metadata": {},
   "outputs": [],
   "source": [
    "client.send_chat(\"Hello everyone!\")"
   ]
  },
  {
   "attachments": {},
   "cell_type": "markdown",
   "metadata": {},
   "source": [
    "## Leaving the room"
   ]
  },
  {
   "attachments": {},
   "cell_type": "markdown",
   "metadata": {},
   "source": [
    "When you are done, you can leave the room by calling the `close` method:"
   ]
  },
  {
   "cell_type": "code",
   "execution_count": null,
   "metadata": {},
   "outputs": [],
   "source": [
    "client.close()"
   ]
  },
  {
   "attachments": {},
   "cell_type": "markdown",
   "metadata": {},
   "source": [
    "## Going further"
   ]
  },
  {
   "attachments": {},
   "cell_type": "markdown",
   "metadata": {},
   "source": [
    "Read the [API docs](https://hubsclient.readthedocs.io/apidocs/index) for more\n",
    "information about the library's features."
   ]
  }
 ],
 "metadata": {
  "language_info": {
   "name": "python"
  },
  "orig_nbformat": 4
 },
 "nbformat": 4,
 "nbformat_minor": 2
}
